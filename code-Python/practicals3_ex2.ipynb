{
 "cells": [
  {
   "cell_type": "markdown",
   "metadata": {},
   "source": [
    "# Setup"
   ]
  },
  {
   "cell_type": "markdown",
   "metadata": {},
   "source": [
    "- The Liesel documentation can be found here: https://docs.liesel-project.org/en/latest/\n",
    "- Track the release of new versions and report bugs here: https://github.com/liesel-devs/liesel\n",
    "- Please feel invited to ask questions here: https://github.com/liesel-devs/liesel/discussions"
   ]
  },
  {
   "cell_type": "code",
   "execution_count": 1,
   "metadata": {},
   "outputs": [],
   "source": [
    "# This cell installs the necessary packages.\n",
    "# Uncomment the lines below to install the packages when running\n",
    "# the notebook on Google Colab.\n",
    "\n",
    "# %%capture\n",
    "# !apt install libgraphviz-dev # necessary here for successful pygraphviz installation\n",
    "# %pip install pygraphviz # install pygraphviz (for plotting model graphs nicely)\n",
    "# %pip install rpy2 # install rpy2 for interfacing R and Python\n",
    "# %pip install liesel # install liesel\n",
    "# %pip install plotnine # install plotnine for ggplot2-like plotting in Python\n"
   ]
  },
  {
   "cell_type": "code",
   "execution_count": 2,
   "metadata": {},
   "outputs": [],
   "source": [
    "# This cell installs R, mgcv and BayesX for us\n",
    "# Uncomment the lines below to install the packages when running\n",
    "# the notebook on Google Colab.\n",
    "\n",
    "# careful, the installation of BayesX takes a long time!\n",
    "\n",
    "# the command '%%capture' prevents ouput from being continuously printed\n",
    "# this is nice here, because the output is very long\n",
    "\n",
    "# %%capture\n",
    "# !apt-get install -y r-base\n",
    "# !Rscript -e \"install.packages('mgcv', repos='http://cran.rstudio.com/')\"\n",
    "# !Rscript -e \"install.packages('BayesX', repos='http://cran.rstudio.com/')\""
   ]
  },
  {
   "cell_type": "code",
   "execution_count": 3,
   "metadata": {},
   "outputs": [],
   "source": [
    "%load_ext rpy2.ipython"
   ]
  },
  {
   "cell_type": "code",
   "execution_count": 4,
   "metadata": {},
   "outputs": [],
   "source": [
    "import numpy as np # for numerical operations\n",
    "import jax.numpy as jnp # for jit-compilable numerical operations\n",
    "import tensorflow_probability.substrates.jax.distributions as tfd # for probability distributions\n",
    "\n",
    "\n",
    "import liesel.model as lsl # Liesel's model-building module\n",
    "import liesel.goose as gs # Liesel's MCMC module\n",
    "from liesel.distributions import MultivariateNormalDegenerate as MVND # for the rank-deficient multivariate normal distribution\n",
    "\n",
    "import plotnine as p9 # for ggplot2-like plotting"
   ]
  },
  {
   "cell_type": "code",
   "execution_count": 5,
   "metadata": {},
   "outputs": [],
   "source": [
    "# for interfacing R and Python\n",
    "from rpy2 import robjects\n",
    "\n",
    "robjects.pandas2ri.activate()"
   ]
  },
  {
   "cell_type": "markdown",
   "metadata": {},
   "source": [
    "# Data Import"
   ]
  },
  {
   "cell_type": "code",
   "execution_count": 6,
   "metadata": {},
   "outputs": [
    {
     "data": {
      "text/plain": [
       "Lade nötiges Paket: nlme\n",
       "This is mgcv 1.9-1. For overview type 'help(\"mgcv-package\")'.\n"
      ]
     },
     "metadata": {},
     "output_type": "display_data"
    }
   ],
   "source": [
    "%%R\n",
    "library(mgcv)\n",
    "\n",
    "rent <- read.table(\"https://raw.githubusercontent.com/liesel-devs/florence-2025/refs/heads/main/data/rent.dat\", header=TRUE)\n",
    "rent_test <- read.table(\"https://raw.githubusercontent.com/liesel-devs/florence-2025/refs/heads/main/data/rent_test.dat\", header=TRUE)\n",
    "\n",
    "rent$location <- as.factor(rent$location)\n",
    "rent_test$location <- as.factor(rent_test$location)\n",
    "rent$district <- as.factor(rent$district)\n",
    "rent_test$district <- factor(rent_test$district, levels = levels(rent$district))"
   ]
  },
  {
   "cell_type": "code",
   "execution_count": 7,
   "metadata": {},
   "outputs": [],
   "source": [
    "# pass the zambia data frame to Python\n",
    "# we explicitly convert the data frame to a pandas data frame\n",
    "rent = robjects.globalenv['rent']\n",
    "rent_test = robjects.globalenv['rent_test']"
   ]
  },
  {
   "cell_type": "markdown",
   "metadata": {},
   "source": [
    "# Model setup"
   ]
  },
  {
   "cell_type": "code",
   "execution_count": 8,
   "metadata": {},
   "outputs": [],
   "source": [
    "%%R\n",
    "# Area effect\n",
    "s_area <- s(area, bs=\"ps\", m=c(3,2), k=20) |> \n",
    "    mgcv::smoothCon(data = rent, absorb.cons = TRUE)\n",
    "\n",
    "basis_area_r <- s_area[[1]]$X\n",
    "pen_area_r <- s_area[[1]]$S[[1]]"
   ]
  },
  {
   "cell_type": "code",
   "execution_count": 9,
   "metadata": {},
   "outputs": [],
   "source": [
    "%%R\n",
    "# Area effect\n",
    "s_year <- s(yearc, bs=\"ps\", m=c(3,2), k=20) |> \n",
    "    mgcv::smoothCon(data = rent, absorb.cons = TRUE)\n",
    "\n",
    "basis_year_r <- s_year[[1]]$X\n",
    "pen_year_r <- s_year[[1]]$S[[1]]"
   ]
  },
  {
   "cell_type": "code",
   "execution_count": 10,
   "metadata": {},
   "outputs": [],
   "source": [
    "%%R\n",
    "# Area effect\n",
    "s_district <- s(district, bs=\"re\") |> \n",
    "    mgcv::smoothCon(data = rent, absorb.cons = TRUE)\n",
    "\n",
    "basis_district_r <- s_district[[1]]$X\n",
    "pen_district_r <- s_district[[1]]$S[[1]]"
   ]
  },
  {
   "cell_type": "code",
   "execution_count": 11,
   "metadata": {},
   "outputs": [],
   "source": [
    "# get R objects into python\n",
    "basis_area_r = robjects.globalenv['basis_area_r']\n",
    "pen_area_r = robjects.globalenv['pen_area_r']\n",
    "test_basis_area_r = robjects.globalenv['test_basis_area_r']\n",
    "\n",
    "basis_year_r = robjects.globalenv['basis_year_r']\n",
    "pen_year_r = robjects.globalenv['pen_year_r']\n",
    "test_basis_year_r = robjects.globalenv['test_basis_year_r']\n",
    "\n",
    "basis_district_r = robjects.globalenv['basis_district_r']\n",
    "pen_district_r = robjects.globalenv['pen_district_r']\n",
    "test_basis_district_r = robjects.globalenv['test_basis_district_r']"
   ]
  },
  {
   "cell_type": "code",
   "execution_count": 12,
   "metadata": {},
   "outputs": [],
   "source": [
    "# set up structured additive term in liesel\n",
    "basis_area = lsl.Var.new_obs(basis_area_r, name=\"basis_area\")\n",
    "\n",
    "mvnd = MVND.from_penalty(loc=0.0, var=1.0, pen=pen_area_r)\n",
    "\n",
    "# set up tau2 prior and variable\n",
    "# tau2_area_loc_prior = lsl.Dist(tfd.InverseGamma, concentration=0.01, scale=0.01)\n",
    "# tau2_area_loc = lsl.Var.new_param(10.0, tau2_area_loc_prior, name=\"tau2_area_loc\")\n",
    "# var_param_area_loc = tau2_area_loc\n",
    "\n",
    "# A diffuse prior with nonzero density at zero\n",
    "# The scale can be set according to the principles of a scale-dependent prior\n",
    "# See Klein & Kneib (2016) for details\n",
    "tau_area_loc_prior = lsl.Dist(tfd.Weibull, concentration=0.5, scale=20.0)\n",
    "tau_area_loc = lsl.Var.new_param(10.0, tau_area_loc_prior, name=\"tau_area_loc\")\n",
    "tau2_area_loc = lsl.Var.new_calc(jnp.square, tau_area_loc, name=\"tau2_area_loc\")\n",
    "var_param_area_loc = tau_area_loc\n",
    "\n",
    "# set up coefficient prior\n",
    "coef_area_loc_prior = lsl.Dist(\n",
    "    MVND.from_penalty,\n",
    "    loc=0.0,\n",
    "    var=tau2_area_loc,\n",
    "    pen=pen_area_r,\n",
    "    rank=mvnd.rank,\n",
    "    log_pdet=mvnd.log_pdet\n",
    ")\n",
    "\n",
    "# set up coefficient variable\n",
    "coef_area_loc = lsl.Var.new_param(\n",
    "    value=jnp.zeros(basis_area_r.shape[1]),\n",
    "    distribution=coef_area_loc_prior,\n",
    "    name=\"coef_area_loc\"\n",
    ")\n",
    "\n",
    "# set up effect variable\n",
    "s_area_loc = lsl.Var.new_calc(jnp.dot, basis_area, coef_area_loc, name=\"s_area_loc\")"
   ]
  },
  {
   "cell_type": "code",
   "execution_count": 13,
   "metadata": {},
   "outputs": [],
   "source": [
    "# set up structured additive term in liesel\n",
    "basis_year = lsl.Var.new_obs(basis_year_r, name=\"basis_year\")\n",
    "\n",
    "\n",
    "mvnd = MVND.from_penalty(loc=0.0, var=1.0, pen=pen_year_r)\n",
    "\n",
    "# set up tau2 prior and variable\n",
    "# tau2_year_loc_prior = lsl.Dist(tfd.InverseGamma, concentration=0.01, scale=0.01)\n",
    "# tau2_year_loc = lsl.Var.new_param(10.0, tau2_year_loc_prior, name=\"tau2_year_loc\")\n",
    "# var_param_year_loc = tau2_year_loc\n",
    "\n",
    "# A diffuse prior with nonzero density at zero\n",
    "# The scale can be set according to the principles of a scale-dependent prior\n",
    "# See Klein & Kneib (2016) for details\n",
    "tau_year_loc_prior = lsl.Dist(tfd.Weibull, concentration=0.5, scale=20.0)\n",
    "tau_year_loc = lsl.Var.new_param(10.0, tau_year_loc_prior, name=\"tau_year_loc\")\n",
    "tau2_year_loc = lsl.Var.new_calc(jnp.square, tau_year_loc, name=\"tau2_year_loc\")\n",
    "var_param_year_loc = tau_year_loc\n",
    "\n",
    "# set up coefficient prior\n",
    "coef_year_loc_prior = lsl.Dist(\n",
    "    MVND.from_penalty,\n",
    "    loc=0.0,\n",
    "    var=tau2_year_loc,\n",
    "    pen=pen_year_r,\n",
    "    rank=mvnd.rank,\n",
    "    log_pdet=mvnd.log_pdet\n",
    ")\n",
    "\n",
    "# set up coefficient variable\n",
    "coef_year_loc = lsl.Var.new_param(\n",
    "    value=jnp.zeros(basis_year_r.shape[1]),\n",
    "    distribution=coef_year_loc_prior,\n",
    "    name=\"coef_year_loc\"\n",
    ")\n",
    "\n",
    "# set up effect variable\n",
    "s_year_loc = lsl.Var.new_calc(jnp.dot, basis_year, coef_year_loc, name=\"s_year_loc\")"
   ]
  },
  {
   "cell_type": "code",
   "execution_count": 14,
   "metadata": {},
   "outputs": [],
   "source": [
    "# set up structured additive term in liesel\n",
    "basis_district = lsl.Var.new_obs(basis_district_r, name=\"basis_district\")\n",
    "\n",
    "mvnd = MVND.from_penalty(loc=0.0, var=1.0, pen=pen_district_r)\n",
    "\n",
    "# set up tau2 prior and variable\n",
    "# tau2_district_loc_prior = lsl.Dist(tfd.InverseGamma, concentration=0.01, scale=0.01)\n",
    "# tau2_district_loc = lsl.Var.new_param(10.0, tau2_district_loc_prior, name=\"tau2_district_loc\")\n",
    "# var_param_district_loc = tau2_district_loc\n",
    "\n",
    "# A diffuse prior with nonzero density at zero\n",
    "# The scale can be set according to the principles of a scale-dependent prior\n",
    "# See Klein & Kneib (2016) for details\n",
    "tau_district_loc_prior = lsl.Dist(tfd.Weibull, concentration=0.5, scale=20.0)\n",
    "tau_district_loc = lsl.Var.new_param(10.0, tau_district_loc_prior, name=\"tau_district_loc\")\n",
    "tau2_district_loc = lsl.Var.new_calc(jnp.square, tau_district_loc, name=\"tau2_district_loc\")\n",
    "var_param_district_loc = tau_district_loc\n",
    "\n",
    "# set up coefficient prior\n",
    "coef_district_loc_prior = lsl.Dist(\n",
    "    MVND.from_penalty,\n",
    "    loc=0.0,\n",
    "    var=tau2_district_loc,\n",
    "    pen=pen_district_r,\n",
    "    rank=mvnd.rank,\n",
    "    log_pdet=mvnd.log_pdet\n",
    ")\n",
    "\n",
    "# set up coefficient variable\n",
    "coef_district_loc = lsl.Var.new_param(\n",
    "    value=jnp.zeros(basis_district_r.shape[1]),\n",
    "    distribution=coef_district_loc_prior,\n",
    "    name=\"coef_district_loc\"\n",
    ")\n",
    "\n",
    "# set up effect variable\n",
    "s_district_loc = lsl.Var.new_calc(jnp.dot, basis_district, coef_district_loc, name=\"s_district_loc\")"
   ]
  },
  {
   "cell_type": "code",
   "execution_count": 15,
   "metadata": {},
   "outputs": [],
   "source": [
    "%%R\n",
    "basis_location <- model.matrix(~location, data = rent)[,-1]"
   ]
  },
  {
   "cell_type": "code",
   "execution_count": 16,
   "metadata": {},
   "outputs": [],
   "source": [
    "basis_location_r = robjects.globalenv['basis_location']"
   ]
  },
  {
   "cell_type": "code",
   "execution_count": 17,
   "metadata": {},
   "outputs": [],
   "source": [
    "basis_location = lsl.Var.new_obs(basis_location_r, name=\"basis_location\")\n",
    "coef_location_loc = lsl.Var.new_param(\n",
    "    jnp.zeros(basis_location.value.shape[1]),\n",
    "    name=\"coef_location_loc\"\n",
    ")\n",
    "s_location_loc = lsl.Var.new_calc(jnp.dot, basis_location, coef_location_loc, name=\"s_location_loc\")"
   ]
  },
  {
   "cell_type": "code",
   "execution_count": 18,
   "metadata": {},
   "outputs": [],
   "source": [
    "intercept_loc = lsl.Var.new_param(\n",
    "    rent[\"rentsqm\"].mean(), name=\"intercept_loc\"  # crude starting value\n",
    ")\n",
    "\n",
    "loc = lsl.Var.new_calc(\n",
    "    lambda *args: sum(args),\n",
    "    intercept_loc,\n",
    "    s_area_loc,\n",
    "    s_district_loc,\n",
    "    s_year_loc,\n",
    "    s_location_loc,\n",
    "    name=\"loc\",\n",
    ")\n",
    "\n",
    "\n",
    "variance = lsl.Var.new_param(\n",
    "    rent[\"rentsqm\"].var(),  # crude starting value\n",
    "    lsl.Dist(tfd.InverseGamma, concentration=0.01, scale=0.01),\n",
    "    name=\"variance\",\n",
    ")\n",
    "\n",
    "scale = lsl.Var.new_calc(jnp.sqrt, variance, name=\"scale\")\n",
    "\n",
    "rentsqm_dist = lsl.Dist(tfd.Normal, loc=loc, scale=scale)\n",
    "rentsqm = lsl.Var.new_obs(\n",
    "    rent[\"rentsqm\"].values, distribution=rentsqm_dist, name=\"rentsqm\"\n",
    ")"
   ]
  },
  {
   "cell_type": "code",
   "execution_count": 19,
   "metadata": {},
   "outputs": [
    {
     "name": "stderr",
     "output_type": "stream",
     "text": [
      "liesel.model.model - INFO - Converted dtype of Value(name=\"rentsqm_value\").value\n",
      "liesel.model.model - INFO - Converted dtype of Value(name=\"variance_value\").value\n",
      "liesel.model.model - INFO - Converted dtype of Value(name=\"basis_location_value\").value\n",
      "liesel.model.model - INFO - Converted dtype of Value(name=\"\").value\n",
      "liesel.model.model - INFO - Converted dtype of Value(name=\"basis_year_value\").value\n",
      "liesel.model.model - INFO - Converted dtype of Value(name=\"\").value\n",
      "liesel.model.model - INFO - Converted dtype of Value(name=\"basis_district_value\").value\n",
      "liesel.model.model - INFO - Converted dtype of Value(name=\"\").value\n",
      "liesel.model.model - INFO - Converted dtype of Value(name=\"basis_area_value\").value\n",
      "liesel.model.model - INFO - Converted dtype of Value(name=\"intercept_loc_value\").value\n"
     ]
    }
   ],
   "source": [
    "model1 = lsl.Model([rentsqm])\n",
    "interface = gs.LieselInterface(model1)"
   ]
  },
  {
   "cell_type": "code",
   "execution_count": 20,
   "metadata": {},
   "outputs": [
    {
     "data": {
      "image/png": "[encoded data removed]",
      "text/plain": [
       "<Figure size 1400x1000 with 1 Axes>"
      ]
     },
     "metadata": {},
     "output_type": "display_data"
    }
   ],
   "source": [
    "lsl.plot_vars(model1)"
   ]
  },
  {
   "cell_type": "markdown",
   "metadata": {},
   "source": [
    "# Parameter estimation"
   ]
  },
  {
   "cell_type": "markdown",
   "metadata": {},
   "source": [
    "## Pre-optimization"
   ]
  },
  {
   "cell_type": "code",
   "execution_count": 21,
   "metadata": {},
   "outputs": [
    {
     "name": "stderr",
     "output_type": "stream",
     "text": [
      "Training loss: 5344.745, Validation loss: 5344.745:  26%|██▌       | 2610/10000 [00:23<01:05, 113.24it/s]"
     ]
    }
   ],
   "source": [
    "import optax\n",
    "\n",
    "# crude, but robust optimization\n",
    "preopt = gs.optim_flat(\n",
    "    model_train=model1,\n",
    "    params=[intercept_loc.name, coef_area_loc.name, coef_district_loc.name, coef_year_loc.name, coef_location_loc.name, variance.name],\n",
    "    stopper=gs.Stopper(max_iter=10_000, patience=10, atol=1e-3),\n",
    "    optimizer=optax.adam(learning_rate=0.01)\n",
    ")"
   ]
  },
  {
   "cell_type": "markdown",
   "metadata": {},
   "source": [
    "## MCMC Sampling"
   ]
  },
  {
   "cell_type": "code",
   "execution_count": 24,
   "metadata": {},
   "outputs": [],
   "source": [
    "eb = gs.EngineBuilder(seed=42, num_chains=4)\n",
    "\n",
    "eb.set_model(interface)\n",
    "eb.set_initial_values(preopt.model_state)\n",
    "\n",
    "eb.add_kernel(gs.NUTSKernel([intercept_loc.name]))\n",
    "\n",
    "eb.add_kernel(gs.IWLSKernel([coef_area_loc.name]))\n",
    "eb.add_kernel(gs.IWLSKernel([coef_district_loc.name]))\n",
    "eb.add_kernel(gs.IWLSKernel([coef_year_loc.name]))\n",
    "eb.add_kernel(gs.IWLSKernel([coef_location_loc.name]))\n",
    "\n",
    "eb.add_kernel(gs.NUTSKernel([var_param_area_loc.name]))\n",
    "eb.add_kernel(gs.NUTSKernel([var_param_district_loc.name]))\n",
    "eb.add_kernel(gs.NUTSKernel([var_param_year_loc.name]))\n",
    "\n",
    "eb.add_kernel(gs.NUTSKernel([variance.name]))\n",
    "\n",
    "eb.positions_included = [s_area_loc.name, s_district_loc.name, s_year_loc.name, s_location_loc.name]\n",
    "\n",
    "eb.set_duration(warmup_duration=2000, posterior_duration=4000, thinning_posterior=10)"
   ]
  },
  {
   "cell_type": "code",
   "execution_count": 25,
   "metadata": {},
   "outputs": [
    {
     "name": "stderr",
     "output_type": "stream",
     "text": [
      "liesel.goose.builder - WARNING - No jitter functions provided. The initial values won't be jittered\n",
      "liesel.goose.engine - INFO - Initializing kernels...\n",
      "liesel.goose.engine - INFO - Done\n"
     ]
    }
   ],
   "source": [
    "engine = eb.build()"
   ]
  },
  {
   "cell_type": "code",
   "execution_count": 26,
   "metadata": {},
   "outputs": [
    {
     "name": "stderr",
     "output_type": "stream",
     "text": [
      "liesel.goose.engine - INFO - Starting epoch: FAST_ADAPTATION, 75 transitions, 25 jitted together\n",
      "100%|██████████████████████████████████████████| 3/3 [00:13<00:00,  4.47s/chunk]\n",
      "liesel.goose.engine - WARNING - Errors per chain for kernel_00: 2, 4, 1, 2 / 75 transitions\n",
      "liesel.goose.engine - WARNING - Errors per chain for kernel_05: 11, 8, 8, 5 / 75 transitions\n",
      "liesel.goose.engine - WARNING - Errors per chain for kernel_06: 2, 5, 5, 3 / 75 transitions\n",
      "liesel.goose.engine - WARNING - Errors per chain for kernel_07: 10, 7, 12, 6 / 75 transitions\n",
      "liesel.goose.engine - WARNING - Errors per chain for kernel_08: 0, 2, 1, 1 / 75 transitions\n",
      "liesel.goose.engine - INFO - Finished epoch\n",
      "liesel.goose.engine - INFO - Starting epoch: SLOW_ADAPTATION, 25 transitions, 25 jitted together\n",
      "100%|█████████████████████████████████████████| 1/1 [00:00<00:00, 615.45chunk/s]\n",
      "liesel.goose.engine - WARNING - Errors per chain for kernel_00: 1, 1, 1, 1 / 25 transitions\n",
      "liesel.goose.engine - WARNING - Errors per chain for kernel_05: 2, 2, 3, 4 / 25 transitions\n",
      "liesel.goose.engine - WARNING - Errors per chain for kernel_06: 1, 1, 0, 1 / 25 transitions\n",
      "liesel.goose.engine - WARNING - Errors per chain for kernel_07: 2, 2, 4, 4 / 25 transitions\n",
      "liesel.goose.engine - WARNING - Errors per chain for kernel_08: 2, 1, 1, 1 / 25 transitions\n",
      "liesel.goose.engine - INFO - Finished epoch\n",
      "liesel.goose.engine - INFO - Starting epoch: SLOW_ADAPTATION, 50 transitions, 25 jitted together\n",
      "100%|█████████████████████████████████████████| 2/2 [00:00<00:00, 440.65chunk/s]\n",
      "liesel.goose.engine - WARNING - Errors per chain for kernel_00: 1, 1, 2, 3 / 50 transitions\n",
      "liesel.goose.engine - WARNING - Errors per chain for kernel_05: 2, 2, 2, 3 / 50 transitions\n",
      "liesel.goose.engine - WARNING - Errors per chain for kernel_06: 1, 2, 1, 3 / 50 transitions\n",
      "liesel.goose.engine - WARNING - Errors per chain for kernel_07: 4, 3, 5, 1 / 50 transitions\n",
      "liesel.goose.engine - WARNING - Errors per chain for kernel_08: 1, 2, 1, 2 / 50 transitions\n",
      "liesel.goose.engine - INFO - Finished epoch\n",
      "liesel.goose.engine - INFO - Starting epoch: SLOW_ADAPTATION, 100 transitions, 25 jitted together\n",
      "100%|█████████████████████████████████████████| 4/4 [00:00<00:00, 678.44chunk/s]\n",
      "liesel.goose.engine - WARNING - Errors per chain for kernel_00: 2, 2, 3, 1 / 100 transitions\n",
      "liesel.goose.engine - WARNING - Errors per chain for kernel_05: 5, 5, 7, 6 / 100 transitions\n",
      "liesel.goose.engine - WARNING - Errors per chain for kernel_06: 2, 1, 1, 2 / 100 transitions\n",
      "liesel.goose.engine - WARNING - Errors per chain for kernel_07: 3, 6, 4, 4 / 100 transitions\n",
      "liesel.goose.engine - WARNING - Errors per chain for kernel_08: 1, 1, 1, 2 / 100 transitions\n",
      "liesel.goose.engine - INFO - Finished epoch\n",
      "liesel.goose.engine - INFO - Starting epoch: SLOW_ADAPTATION, 200 transitions, 25 jitted together\n",
      "100%|██████████████████████████████████████████| 8/8 [00:01<00:00,  4.31chunk/s]\n",
      "liesel.goose.engine - WARNING - Errors per chain for kernel_00: 3, 1, 4, 1 / 200 transitions\n",
      "liesel.goose.engine - WARNING - Errors per chain for kernel_05: 6, 9, 9, 7 / 200 transitions\n",
      "liesel.goose.engine - WARNING - Errors per chain for kernel_06: 2, 1, 3, 2 / 200 transitions\n",
      "liesel.goose.engine - WARNING - Errors per chain for kernel_07: 3, 10, 5, 4 / 200 transitions\n",
      "liesel.goose.engine - WARNING - Errors per chain for kernel_08: 1, 1, 1, 1 / 200 transitions\n",
      "liesel.goose.engine - INFO - Finished epoch\n",
      "liesel.goose.engine - INFO - Starting epoch: SLOW_ADAPTATION, 400 transitions, 25 jitted together\n",
      "100%|████████████████████████████████████████| 16/16 [00:17<00:00,  1.12s/chunk]\n",
      "liesel.goose.engine - WARNING - Errors per chain for kernel_00: 2, 1, 3, 1 / 400 transitions\n",
      "liesel.goose.engine - WARNING - Errors per chain for kernel_05: 7, 11, 11, 13 / 400 transitions\n",
      "liesel.goose.engine - WARNING - Errors per chain for kernel_06: 3, 1, 1, 1 / 400 transitions\n",
      "liesel.goose.engine - WARNING - Errors per chain for kernel_07: 9, 11, 15, 2 / 400 transitions\n",
      "liesel.goose.engine - WARNING - Errors per chain for kernel_08: 2, 3, 2, 1 / 400 transitions\n",
      "liesel.goose.engine - INFO - Finished epoch\n",
      "liesel.goose.engine - INFO - Starting epoch: SLOW_ADAPTATION, 1100 transitions, 25 jitted together\n",
      "100%|████████████████████████████████████████| 44/44 [02:20<00:00,  3.20s/chunk]\n",
      "liesel.goose.engine - WARNING - Errors per chain for kernel_00: 2, 3, 2, 2 / 1100 transitions\n",
      "liesel.goose.engine - WARNING - Errors per chain for kernel_05: 14, 18, 18, 18 / 1100 transitions\n",
      "liesel.goose.engine - WARNING - Errors per chain for kernel_06: 1, 3, 2, 1 / 1100 transitions\n",
      "liesel.goose.engine - WARNING - Errors per chain for kernel_07: 21, 13, 22, 20 / 1100 transitions\n",
      "liesel.goose.engine - WARNING - Errors per chain for kernel_08: 1, 2, 1, 2 / 1100 transitions\n",
      "liesel.goose.engine - INFO - Finished epoch\n",
      "liesel.goose.engine - INFO - Starting epoch: FAST_ADAPTATION, 50 transitions, 25 jitted together\n",
      "100%|█████████████████████████████████████████| 2/2 [00:00<00:00, 532.31chunk/s]\n",
      "liesel.goose.engine - WARNING - Errors per chain for kernel_00: 1, 1, 2, 1 / 50 transitions\n",
      "liesel.goose.engine - WARNING - Errors per chain for kernel_05: 3, 4, 1, 4 / 50 transitions\n",
      "liesel.goose.engine - WARNING - Errors per chain for kernel_06: 1, 1, 3, 1 / 50 transitions\n",
      "liesel.goose.engine - WARNING - Errors per chain for kernel_07: 5, 5, 1, 3 / 50 transitions\n",
      "liesel.goose.engine - WARNING - Errors per chain for kernel_08: 1, 1, 1, 1 / 50 transitions\n",
      "liesel.goose.engine - INFO - Finished epoch\n",
      "liesel.goose.engine - INFO - Finished warmup\n",
      "liesel.goose.engine - INFO - Starting epoch: POSTERIOR, 4000 transitions, 25 jitted together\n",
      "100%|██████████████████████████████████████| 160/160 [05:43<00:00,  2.15s/chunk]\n",
      "liesel.goose.engine - WARNING - Errors per chain for kernel_05: 18, 28, 37, 26 / 4000 transitions\n",
      "liesel.goose.engine - WARNING - Errors per chain for kernel_07: 6, 15, 2, 13 / 4000 transitions\n",
      "liesel.goose.engine - INFO - Finished epoch\n"
     ]
    }
   ],
   "source": [
    "engine.sample_all_epochs()"
   ]
  },
  {
   "cell_type": "code",
   "execution_count": 27,
   "metadata": {},
   "outputs": [],
   "source": [
    "results1 = engine.get_results()\n",
    "samples1 = results1.get_posterior_samples()\n",
    "summary1 = gs.Summary(results1, deselected=eb.positions_included)"
   ]
  },
  {
   "cell_type": "markdown",
   "metadata": {},
   "source": [
    "# Evaluate log density at test data"
   ]
  },
  {
   "cell_type": "markdown",
   "metadata": {},
   "source": [
    "## Basis matrices"
   ]
  },
  {
   "cell_type": "code",
   "execution_count": null,
   "metadata": {},
   "outputs": [],
   "source": [
    "%%R\n",
    "test_basis_area_r <- s_area[[1]] |> mgcv::PredictMat(rent_test)\n",
    "test_basis_year_r <- s_year[[1]] |> mgcv::PredictMat(rent_test)\n",
    "test_basis_district_r <- s_district[[1]] |> mgcv::PredictMat(rent_test)\n",
    "test_basis_location <- model.matrix(~location, data = rent_test)[,-1]"
   ]
  },
  {
   "cell_type": "code",
   "execution_count": null,
   "metadata": {},
   "outputs": [],
   "source": [
    "# get R objects into python\n",
    "test_basis_area_r = robjects.globalenv['test_basis_area_r']\n",
    "test_basis_year_r = robjects.globalenv['test_basis_year_r']\n",
    "test_basis_district_r = robjects.globalenv['test_basis_district_r']\n",
    "test_basis_location_r = robjects.globalenv['test_basis_location']"
   ]
  },
  {
   "cell_type": "markdown",
   "metadata": {},
   "source": [
    "## Update model variables with test data"
   ]
  },
  {
   "cell_type": "code",
   "execution_count": 31,
   "metadata": {},
   "outputs": [
    {
     "name": "stderr",
     "output_type": "stream",
     "text": [
      "liesel.model.model - INFO - Converted dtype of Value(name=\"rentsqm_value\").value\n",
      "liesel.model.model - INFO - Converted dtype of Value(name=\"basis_location_value\").value\n",
      "liesel.model.model - INFO - Converted dtype of Value(name=\"basis_year_value\").value\n",
      "liesel.model.model - INFO - Converted dtype of Value(name=\"basis_district_value\").value\n",
      "liesel.model.model - INFO - Converted dtype of Value(name=\"basis_area_value\").value\n"
     ]
    }
   ],
   "source": [
    "nodes, vars_ = model1.copy_nodes_and_vars()\n",
    "\n",
    "vars_[\"rentsqm\"].value = rent_test[\"rentsqm\"].values\n",
    "\n",
    "vars_[\"basis_area\"].value = test_basis_area_r\n",
    "vars_[\"basis_district\"].value = test_basis_district_r\n",
    "vars_[\"basis_year\"].value = test_basis_year_r\n",
    "vars_[\"basis_location\"].value = test_basis_location_r\n",
    "\n",
    "vars_[\"coef_area_loc\"].value = summary1.quantities[\"mean\"][\"coef_area_loc\"]\n",
    "vars_[\"coef_district_loc\"].value = summary1.quantities[\"mean\"][\"coef_district_loc\"]\n",
    "vars_[\"coef_year_loc\"].value = summary1.quantities[\"mean\"][\"coef_year_loc\"]\n",
    "vars_[\"coef_location_loc\"].value = summary1.quantities[\"mean\"][\"coef_location_loc\"]\n",
    "\n",
    "vars_[\"intercept_loc\"].value = summary1.quantities[\"mean\"][\"intercept_loc\"]\n",
    "\n",
    "vars_[\"variance\"].value = summary1.quantities[\"mean\"][\"variance\"]\n",
    "\n",
    "model_test = lsl.Model([vars_[\"rentsqm\"]])"
   ]
  },
  {
   "cell_type": "markdown",
   "metadata": {},
   "source": [
    "## Evaluate log likelihood"
   ]
  },
  {
   "cell_type": "code",
   "execution_count": 32,
   "metadata": {},
   "outputs": [
    {
     "data": {
      "text/plain": [
       "Array(-2088.5383, dtype=float32)"
      ]
     },
     "execution_count": 32,
     "metadata": {},
     "output_type": "execute_result"
    }
   ],
   "source": [
    "model_test.log_lik"
   ]
  },
  {
   "cell_type": "code",
   "execution_count": 33,
   "metadata": {},
   "outputs": [
    {
     "data": {
      "text/plain": [
       "Array(-2088.5383, dtype=float32)"
      ]
     },
     "execution_count": 33,
     "metadata": {},
     "output_type": "execute_result"
    }
   ],
   "source": [
    "model_test.vars[\"rentsqm\"].log_prob.sum()"
   ]
  }
 ],
 "metadata": {
  "kernelspec": {
   "display_name": "liesel-3.12",
   "language": "python",
   "name": "python3"
  },
  "language_info": {
   "codemirror_mode": {
    "name": "ipython",
    "version": 3
   },
   "file_extension": ".py",
   "mimetype": "text/x-python",
   "name": "python",
   "nbconvert_exporter": "python",
   "pygments_lexer": "ipython3",
   "version": "3.12.2"
  }
 },
 "nbformat": 4,
 "nbformat_minor": 2
}
